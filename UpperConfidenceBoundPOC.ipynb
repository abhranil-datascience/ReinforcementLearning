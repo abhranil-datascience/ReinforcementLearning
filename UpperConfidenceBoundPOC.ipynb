{
  "nbformat": 4,
  "nbformat_minor": 0,
  "metadata": {
    "colab": {
      "name": "UpperConfidenceBoundPOC.ipynb",
      "provenance": [],
      "collapsed_sections": [],
      "include_colab_link": true
    },
    "kernelspec": {
      "name": "python3",
      "display_name": "Python 3"
    },
    "accelerator": "GPU"
  },
  "cells": [
    {
      "cell_type": "markdown",
      "metadata": {
        "id": "view-in-github",
        "colab_type": "text"
      },
      "source": [
        "<a href=\"https://colab.research.google.com/github/abhranil-datascience/ReinforcementLearning/blob/master/UpperConfidenceBoundPOC.ipynb\" target=\"_parent\"><img src=\"https://colab.research.google.com/assets/colab-badge.svg\" alt=\"Open In Colab\"/></a>"
      ]
    },
    {
      "cell_type": "code",
      "metadata": {
        "id": "rmJNpgFQMVSW",
        "colab_type": "code",
        "outputId": "32ee1288-e09b-4a3d-cfc1-e5fb22ccf043",
        "colab": {
          "base_uri": "https://localhost:8080/",
          "height": 447
        }
      },
      "source": [
        "############################## Mount Drive ######################################## \n",
        "from google.colab import drive\n",
        "drive.mount('/content/gdrive')\n",
        "############################## Change Directory ###################################\n",
        "import os\n",
        "os.chdir('/content/gdrive/My Drive/MLandDLFullCourse/ML/ReinforcementLearning/UCB')\n",
        "########## Suppress Warnings ############\n",
        "import warnings\n",
        "warnings.filterwarnings('ignore')\n",
        "########## Import Dataset #################\n",
        "import pandas as pd\n",
        "dataset=pd.read_csv('Ads_CTR_Optimisation.csv')\n",
        "Adlist=dataset.iloc[:,:].values\n",
        "######### Calculate UCB ##################\n",
        "import math as mt\n",
        "sum_of_rewards=[0]*Adlist.shape[1]\n",
        "num_of_selections=[0]*Adlist.shape[1]\n",
        "ad_selected=[]\n",
        "total_rewards=0\n",
        "for rounds in range(0,Adlist.shape[0]):\n",
        "  maxUCB=0\n",
        "  ad=0\n",
        "  for ad_num in range(0,Adlist.shape[1]):\n",
        "    if num_of_selections[ad_num]==0:\n",
        "      UCB=1e44\n",
        "    else:\n",
        "      mean_of_rewards=sum_of_rewards[ad_num]/num_of_selections[ad_num]\n",
        "      Total_num_of_ads_already_displayed=rounds*Adlist.shape[1]+ad_num\n",
        "      CI=mt.sqrt(1.5*mt.log((Total_num_of_ads_already_displayed))/num_of_selections[ad_num])\n",
        "      UCB=CI+mean_of_rewards\n",
        "    if(UCB>maxUCB):\n",
        "      maxUCB=UCB\n",
        "      ad=ad_num\n",
        "  ad_selected.append(ad)\n",
        "  sum_of_rewards[ad]=sum_of_rewards[ad]+Adlist[rounds][ad]\n",
        "  num_of_selections[ad]=num_of_selections[ad]+1\n",
        "  total_rewards=total_rewards+Adlist[rounds][ad]\n",
        "  ####### Check when to break #############\n",
        "  sum_of_rewards_temp=[]\n",
        "  for val in sum_of_rewards:\n",
        "    sum_of_rewards_temp.append(val)\n",
        "  sum_of_rewards_temp.sort()\n",
        "  max_reward_index=sum_of_rewards.index(sum_of_rewards_temp[-1])\n",
        "  second_max_reward_index=sum_of_rewards.index(sum_of_rewards_temp[-2])\n",
        "  if sum_of_rewards[max_reward_index]-sum_of_rewards[second_max_reward_index]==15:\n",
        "    print(\"Found the most popular ad: \"+str(max_reward_index)+ \" at round \"+str(rounds) )\n",
        "    break\n",
        "########## Select highest voted ad for rest of the rounds ################\n",
        "for rows in range(rounds+1,Adlist.shape[0]):\n",
        "  ad_selected.append(max_reward_index)\n",
        "  total_rewards=total_rewards+Adlist[rows][max_reward_index]\n",
        "#print(\"Total Reward: \"+str(total_rewards))\n",
        "########## Create Ad-Histogram ###############\n",
        "import matplotlib.pyplot as plt\n",
        "plt.hist(x=ad_selected)  "
      ],
      "execution_count": 0,
      "outputs": [
        {
          "output_type": "stream",
          "text": [
            "Go to this URL in a browser: https://accounts.google.com/o/oauth2/auth?client_id=947318989803-6bn6qk8qdgf4n4g3pfee6491hc0brc4i.apps.googleusercontent.com&redirect_uri=urn%3aietf%3awg%3aoauth%3a2.0%3aoob&response_type=code&scope=email%20https%3a%2f%2fwww.googleapis.com%2fauth%2fdocs.test%20https%3a%2f%2fwww.googleapis.com%2fauth%2fdrive%20https%3a%2f%2fwww.googleapis.com%2fauth%2fdrive.photos.readonly%20https%3a%2f%2fwww.googleapis.com%2fauth%2fpeopleapi.readonly\n",
            "\n",
            "Enter your authorization code:\n",
            "··········\n",
            "Mounted at /content/gdrive\n",
            "Found the most popular ad: 4 at round 693\n"
          ],
          "name": "stdout"
        },
        {
          "output_type": "execute_result",
          "data": {
            "text/plain": [
              "(array([  92.,   65.,   65.,   79., 9430.,   40.,   44.,   82.,   56.,\n",
              "          47.]),\n",
              " array([0. , 0.9, 1.8, 2.7, 3.6, 4.5, 5.4, 6.3, 7.2, 8.1, 9. ]),\n",
              " <a list of 10 Patch objects>)"
            ]
          },
          "metadata": {
            "tags": []
          },
          "execution_count": 2
        },
        {
          "output_type": "display_data",
          "data": {
            "image/png": "[encoded data removed]",
            "text/plain": [
              "<Figure size 432x288 with 1 Axes>"
            ]
          },
          "metadata": {
            "tags": []
          }
        }
      ]
    }
  ]
}
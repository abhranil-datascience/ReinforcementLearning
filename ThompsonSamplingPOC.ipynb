{
  "nbformat": 4,
  "nbformat_minor": 0,
  "metadata": {
    "colab": {
      "name": "ThompsonSamplingPOC.ipynb",
      "provenance": [],
      "collapsed_sections": [],
      "include_colab_link": true
    },
    "kernelspec": {
      "name": "python3",
      "display_name": "Python 3"
    },
    "accelerator": "GPU"
  },
  "cells": [
    {
      "cell_type": "markdown",
      "metadata": {
        "id": "view-in-github",
        "colab_type": "text"
      },
      "source": [
        "<a href=\"https://colab.research.google.com/github/abhranil-datascience/ReinforcementLearning/blob/master/ThompsonSamplingPOC.ipynb\" target=\"_parent\"><img src=\"https://colab.research.google.com/assets/colab-badge.svg\" alt=\"Open In Colab\"/></a>"
      ]
    },
    {
      "cell_type": "code",
      "metadata": {
        "id": "s_wOs9Q7uyUt",
        "colab_type": "code",
        "outputId": "735fcb22-ea9f-4024-b615-49f7d30b2b53",
        "colab": {
          "base_uri": "https://localhost:8080/",
          "height": 463
        }
      },
      "source": [
        "############################## Mount Drive ######################################## \n",
        "from google.colab import drive\n",
        "drive.mount('/content/gdrive')\n",
        "############################## Change Directory ###################################\n",
        "import os\n",
        "os.chdir('/content/gdrive/My Drive/MLandDLFullCourse/ML/ReinforcementLearning/ThompsonSampling')\n",
        "########## Suppress Warnings ############\n",
        "import warnings\n",
        "warnings.filterwarnings('ignore')\n",
        "########## Import Dataset #################\n",
        "import pandas as pd\n",
        "dataset=pd.read_csv('Ads_CTR_Optimisation.csv')\n",
        "Adlist=dataset.iloc[:,:].values\n",
        "######### Thompson Sampling ###############\n",
        "import random\n",
        "num_of_selections=[0]*Adlist.shape[1]\n",
        "num_of_rejections=[0]*Adlist.shape[1]\n",
        "ad_selected=[]\n",
        "total_rewards=0\n",
        "for rounds in range(0,Adlist.shape[0]):\n",
        "  max_beta=0\n",
        "  ad=0\n",
        "  for current_ad_index in range(0,Adlist.shape[1]):\n",
        "    beta=random.betavariate(num_of_selections[current_ad_index]+1,num_of_rejections[current_ad_index]+1)\n",
        "    if beta>max_beta:\n",
        "      max_beta=beta\n",
        "      ad=current_ad_index\n",
        "  Reward=Adlist[rounds][ad]\n",
        "  ad_selected.append(ad)\n",
        "  if Reward>0:\n",
        "    num_of_selections[ad]=num_of_selections[ad]+1\n",
        "    total_rewards=total_rewards+Reward\n",
        "  else:\n",
        "    num_of_rejections[ad]=num_of_rejections[ad]+1\n",
        "  ####### Check when to break #############\n",
        "  num_of_selections_temp=[]\n",
        "  for val in num_of_selections:\n",
        "    num_of_selections_temp.append(val)\n",
        "  num_of_selections_temp.sort()\n",
        "  most_popular_ad=num_of_selections.index(num_of_selections_temp[-1])\n",
        "  second_most_popular_ad=num_of_selections.index(num_of_selections_temp[-2])\n",
        "  if num_of_selections[most_popular_ad]-num_of_selections[second_most_popular_ad]==15:\n",
        "    print(\"Found the most popular ad: \"+str(most_popular_ad)+ \" at round \"+str(rounds) )\n",
        "    break\n",
        "########## Select highest voted ad for rest of the rounds ################\n",
        "for rows in range(rounds+1,Adlist.shape[0]):\n",
        "  ad_selected.append(most_popular_ad)\n",
        "  total_rewards=total_rewards+Adlist[rows][most_popular_ad]\n",
        "print(\"Total Reward: \"+str(total_rewards))\n",
        "########## Create Ad-Histogram ###############\n",
        "import matplotlib.pyplot as plt\n",
        "plt.hist(x=ad_selected)"
      ],
      "execution_count": 0,
      "outputs": [
        {
          "output_type": "stream",
          "text": [
            "Go to this URL in a browser: https://accounts.google.com/o/oauth2/auth?client_id=947318989803-6bn6qk8qdgf4n4g3pfee6491hc0brc4i.apps.googleusercontent.com&redirect_uri=urn%3aietf%3awg%3aoauth%3a2.0%3aoob&response_type=code&scope=email%20https%3a%2f%2fwww.googleapis.com%2fauth%2fdocs.test%20https%3a%2f%2fwww.googleapis.com%2fauth%2fdrive%20https%3a%2f%2fwww.googleapis.com%2fauth%2fdrive.photos.readonly%20https%3a%2f%2fwww.googleapis.com%2fauth%2fpeopleapi.readonly\n",
            "\n",
            "Enter your authorization code:\n",
            "··········\n",
            "Mounted at /content/gdrive\n",
            "Found the most popular ad: 4 at round 817\n",
            "Total Reward: 2627\n"
          ],
          "name": "stdout"
        },
        {
          "output_type": "execute_result",
          "data": {
            "text/plain": [
              "(array([  91.,   63.,   43.,   59., 9408.,   17.,   52.,  192.,   55.,\n",
              "          20.]),\n",
              " array([0. , 0.9, 1.8, 2.7, 3.6, 4.5, 5.4, 6.3, 7.2, 8.1, 9. ]),\n",
              " <a list of 10 Patch objects>)"
            ]
          },
          "metadata": {
            "tags": []
          },
          "execution_count": 1
        },
        {
          "output_type": "display_data",
          "data": {
            "image/png": "[encoded data removed]",
            "text/plain": [
              "<Figure size 432x288 with 1 Axes>"
            ]
          },
          "metadata": {
            "tags": []
          }
        }
      ]
    }
  ]
}